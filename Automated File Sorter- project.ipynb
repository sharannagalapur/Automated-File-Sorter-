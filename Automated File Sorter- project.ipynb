{
 "cells": [
  {
   "cell_type": "code",
   "execution_count": null,
   "id": "bf1b3bb9-3a78-45a2-ac90-ffab60f6261c",
   "metadata": {},
   "outputs": [],
   "source": [
    "#Automated File sorter in file explorer"
   ]
  },
  {
   "cell_type": "code",
   "execution_count": 35,
   "id": "b0d5da62-a772-4f7f-ad55-28233742667d",
   "metadata": {},
   "outputs": [],
   "source": [
    "import os,shutil"
   ]
  },
  {
   "cell_type": "code",
   "execution_count": 39,
   "id": "ea967fd8-c88d-4377-b679-318c0036f15f",
   "metadata": {},
   "outputs": [],
   "source": [
    "path = r\"C:/file Sorter/\""
   ]
  },
  {
   "cell_type": "code",
   "execution_count": 61,
   "id": "5e176c20-99a5-407b-806d-55117a896f58",
   "metadata": {},
   "outputs": [],
   "source": [
    "file_name = os.listdir(path)\n"
   ]
  },
  {
   "cell_type": "code",
   "execution_count": 80,
   "id": "0cfc93a5-1d11-45a0-afa5-0d0224fdc388",
   "metadata": {},
   "outputs": [],
   "source": [
    "import os,shutil\n",
    "path = r\"C:/file Sorter/\"\n",
    "file_name = os.listdir(path)\n",
    "folder_names = ['csv files','image files','text files']\n",
    "\n",
    "for loop in range(0,3):\n",
    "   if not os.path.exists(path + folder_names[loop]):\n",
    "       #print(path + folder_names[loop])\n",
    "       os.makedirs(path + folder_names[loop])\n",
    "\n",
    "for file in file_name:\n",
    "    if \".csv\" in file and not os.path.exists(path + \"csv files/\"+ file):\n",
    "        shutil.move(path + file,path + \"csv files/\" + file)\n",
    "    elif \".png\" in file and not os.path.exists(path + \"image files/\"+ file):\n",
    "        shutil.move(path + file,path + \"image files/\" + file)\n",
    "    elif \".txt\" in file and not os.path.exists(path + \"text files/\"+ file):\n",
    "        shutil.move(path + file,path + \"text files/\" + file)\n",
    "  \n"
   ]
  },
  {
   "cell_type": "code",
   "execution_count": null,
   "id": "c50fdf6f-4a22-4e79-956f-b25d4ebacc46",
   "metadata": {},
   "outputs": [],
   "source": []
  },
  {
   "cell_type": "code",
   "execution_count": null,
   "id": "382c244a-2482-4a3a-b358-06293033c3de",
   "metadata": {},
   "outputs": [],
   "source": []
  },
  {
   "cell_type": "code",
   "execution_count": null,
   "id": "fbd3d609-adca-4d01-9710-8bf721fcc4ac",
   "metadata": {},
   "outputs": [],
   "source": []
  },
  {
   "cell_type": "code",
   "execution_count": null,
   "id": "77097c2b-bb3b-4fb8-b935-820f2092d9e8",
   "metadata": {},
   "outputs": [],
   "source": []
  }
 ],
 "metadata": {
  "kernelspec": {
   "display_name": "Python 3 (ipykernel)",
   "language": "python",
   "name": "python3"
  },
  "language_info": {
   "codemirror_mode": {
    "name": "ipython",
    "version": 3
   },
   "file_extension": ".py",
   "mimetype": "text/x-python",
   "name": "python",
   "nbconvert_exporter": "python",
   "pygments_lexer": "ipython3",
   "version": "3.12.4"
  }
 },
 "nbformat": 4,
 "nbformat_minor": 5
}
